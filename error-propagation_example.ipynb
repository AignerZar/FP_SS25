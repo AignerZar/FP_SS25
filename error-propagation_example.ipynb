{
 "cells": [
  {
   "cell_type": "markdown",
   "metadata": {},
   "source": [
    "## TEST CODE FÜR FEHLERPROPAGATION IN PYTHON\n",
    "\n",
    "Das `uncertainties`-Paket in Python dient zur Berechnung und Propagation von Unsicherheiten bei Messwerten. Es ermöglicht eine einfache Handhabung von Größen mit Unsicherheiten, indem es automatisch die Fehlerfortpflanzung nach den Regeln der Fehlerrechnung übernimmt.\n",
    "\n",
    "Installation: `pip install uncertainties` ODER `conda install uncertainties`"
   ]
  },
  {
   "cell_type": "code",
   "execution_count": 2,
   "metadata": {},
   "outputs": [],
   "source": [
    "from uncertainties import ufloat"
   ]
  },
  {
   "cell_type": "code",
   "execution_count": 3,
   "metadata": {},
   "outputs": [
    {
     "name": "stdout",
     "output_type": "stream",
     "text": [
      "10.0+/-0.5\n"
     ]
    }
   ],
   "source": [
    "x = ufloat(10.0, 0.5)  # 10.0 ± 0.5\n",
    "print(x)  # Ausgabe: 10.0+/-0.5"
   ]
  },
  {
   "cell_type": "markdown",
   "metadata": {},
   "source": [
    "Das Paket propagiert Unsicherheiten automatisch bei mathematischen Operationen."
   ]
  },
  {
   "cell_type": "code",
   "execution_count": 4,
   "metadata": {},
   "outputs": [
    {
     "name": "stdout",
     "output_type": "stream",
     "text": [
      "15.0+/-0.5\n",
      "50.0+/-3.2\n"
     ]
    }
   ],
   "source": [
    "y = ufloat(5.0, 0.2)  # 5.0 ± 0.2\n",
    "\n",
    "z = x + y  # Addition\n",
    "print(z)  # 15.0+/-0.54\n",
    "\n",
    "w = x * y  # Multiplikation\n",
    "print(w)  # 50.0+/-2.29"
   ]
  },
  {
   "cell_type": "markdown",
   "metadata": {},
   "source": [
    "Die `uncertainties.umath`-Bibliothek erlaubt es, unsichere Werte mit mathematischen Funktionen zu verarbeiten."
   ]
  },
  {
   "cell_type": "code",
   "execution_count": 5,
   "metadata": {},
   "outputs": [
    {
     "name": "stdout",
     "output_type": "stream",
     "text": [
      "0.48+/-0.09\n"
     ]
    }
   ],
   "source": [
    "from uncertainties.umath import sin, cos, exp\n",
    "\n",
    "a = ufloat(0.5, 0.1)  # 0.5 ± 0.1\n",
    "b = sin(a)  # Fehlerfortpflanzung in trigonometrischen Funktionen\n",
    "print(b)  # Ausgabe: 0.479+/-0.087"
   ]
  },
  {
   "cell_type": "markdown",
   "metadata": {},
   "source": [
    "Falls du den nominalen Wert oder die Unsicherheit separat benötigst:"
   ]
  },
  {
   "cell_type": "code",
   "execution_count": 6,
   "metadata": {},
   "outputs": [
    {
     "name": "stdout",
     "output_type": "stream",
     "text": [
      "10.0\n",
      "0.5\n"
     ]
    }
   ],
   "source": [
    "print(x.nominal_value)  # 10.0\n",
    "print(x.std_dev)        # 0.5"
   ]
  },
  {
   "cell_type": "markdown",
   "metadata": {},
   "source": [
    "Falls du eigene Funktionen definierst, kannst du das `wrap`-Dekorator verwenden, um die Unsicherheitsrechnung automatisch durchzuführen:"
   ]
  },
  {
   "cell_type": "code",
   "execution_count": 7,
   "metadata": {},
   "outputs": [
    {
     "name": "stdout",
     "output_type": "stream",
     "text": [
      "125+/-10\n"
     ]
    }
   ],
   "source": [
    "from uncertainties import unumpy, wrap\n",
    "\n",
    "@wrap\n",
    "def my_function(a, b):\n",
    "    return a ** 2 + b ** 2\n",
    "\n",
    "result = my_function(x, y)\n",
    "print(result)  # 125.0+/-5.02"
   ]
  },
  {
   "cell_type": "markdown",
   "metadata": {},
   "source": [
    "Das `uncertainties.umath`-Modul bietet viele gängige mathematische Funktionen, die mit unsicheren Größen kompatibel sind. Hier sind einige der wichtigsten:"
   ]
  },
  {
   "cell_type": "code",
   "execution_count": 8,
   "metadata": {},
   "outputs": [
    {
     "name": "stdout",
     "output_type": "stream",
     "text": [
      "0.48+/-0.09\n",
      "0.88+/-0.05\n",
      "0.55+/-0.13\n"
     ]
    }
   ],
   "source": [
    "from uncertainties.umath import sin, cos, tan\n",
    "\n",
    "x = ufloat(0.5, 0.1)  # 0.5 ± 0.1\n",
    "print(sin(x))  # 0.479+/-0.087\n",
    "print(cos(x))  # 0.878+/-0.048\n",
    "print(tan(x))  # 0.546+/-0.132"
   ]
  },
  {
   "cell_type": "code",
   "execution_count": 9,
   "metadata": {},
   "outputs": [
    {
     "name": "stdout",
     "output_type": "stream",
     "text": [
      "7.4+/-0.7\n",
      "0.69+/-0.05\n",
      "1.414+/-0.035\n"
     ]
    }
   ],
   "source": [
    "from uncertainties.umath import exp, log, sqrt\n",
    "\n",
    "y = ufloat(2.0, 0.1)\n",
    "print(exp(y))  # e^2.0 mit propagierter Unsicherheit\n",
    "print(log(y))  # ln(2.0)\n",
    "print(sqrt(y))  # Wurzel aus 2.0"
   ]
  },
  {
   "cell_type": "code",
   "execution_count": 10,
   "metadata": {},
   "outputs": [
    {
     "name": "stdout",
     "output_type": "stream",
     "text": [
      "64+/-10\n"
     ]
    }
   ],
   "source": [
    "from uncertainties.umath import pow\n",
    "\n",
    "z = ufloat(4.0, 0.2)\n",
    "print(pow(z, 3))   # 4^3 mit Fehlerfortpflanzung"
   ]
  },
  {
   "cell_type": "code",
   "execution_count": 11,
   "metadata": {},
   "outputs": [
    {
     "name": "stdout",
     "output_type": "stream",
     "text": [
      "1.18+/-0.08\n",
      "1.54+/-0.06\n",
      "0.762+/-0.021\n"
     ]
    }
   ],
   "source": [
    "from uncertainties.umath import sinh, cosh, tanh\n",
    "\n",
    "a = ufloat(1.0, 0.05)\n",
    "print(sinh(a))  # sinh(1.0)\n",
    "print(cosh(a))  # cosh(1.0)\n",
    "print(tanh(a))  # tanh(1.0)"
   ]
  },
  {
   "cell_type": "code",
   "execution_count": 12,
   "metadata": {},
   "outputs": [
    {
     "name": "stdout",
     "output_type": "stream",
     "text": [
      "0.966+/-0.012\n",
      "0.8862+/-0.0032\n"
     ]
    }
   ],
   "source": [
    "from uncertainties.umath import erf, gamma\n",
    "\n",
    "b = ufloat(1.5, 0.1)\n",
    "print(erf(b))    # Fehlerfunktion für 1.5\n",
    "print(gamma(b))  # Gamma-Funktion für 1.5"
   ]
  },
  {
   "cell_type": "markdown",
   "metadata": {},
   "source": [
    "Du kannst alle Funktionen aus `uncertainties.umath` auf einmal importieren mit:"
   ]
  },
  {
   "cell_type": "code",
   "execution_count": 13,
   "metadata": {},
   "outputs": [],
   "source": [
    "from uncertainties.umath import *"
   ]
  },
  {
   "cell_type": "markdown",
   "metadata": {},
   "source": [
    "Dadurch stehen dir direkt alle unterstützten mathematischen Funktionen zur Verfügung, ohne dass du sie einzeln aufrufen musst. Beispiel:"
   ]
  },
  {
   "cell_type": "code",
   "execution_count": 14,
   "metadata": {},
   "outputs": [
    {
     "name": "stdout",
     "output_type": "stream",
     "text": [
      "7.4+/-0.7\n",
      "0.69+/-0.05\n",
      "1.414+/-0.035\n",
      "0.91+/-0.04\n",
      "1.00+/-0.04\n"
     ]
    }
   ],
   "source": [
    "x = ufloat(2.0, 0.1)\n",
    "\n",
    "print(exp(x))   # e^2.0 mit Unsicherheit\n",
    "print(log(x))   # ln(2.0)\n",
    "print(sqrt(x))  # Wurzel aus 2.0\n",
    "print(sin(x))   # sin(2.0)\n",
    "print(gamma(x)) # Gamma-Funktion von 2.0"
   ]
  },
  {
   "cell_type": "markdown",
   "metadata": {},
   "source": [
    "Achtung: Der Import mit `*` ist zwar praktisch, aber kann Namen überschreiben, wenn du andere mathematische Module verwendest (z. B. `math`). Falls du `math` und `uncertainties.umath` parallel nutzen möchtest, importiere `umath` besser mit einem Alias:"
   ]
  },
  {
   "cell_type": "code",
   "execution_count": 15,
   "metadata": {},
   "outputs": [
    {
     "name": "stdout",
     "output_type": "stream",
     "text": [
      "7.4+/-0.7\n",
      "0.69+/-0.05\n",
      "1.414+/-0.035\n"
     ]
    }
   ],
   "source": [
    "import uncertainties.umath as um\n",
    "\n",
    "print(um.exp(x))\n",
    "print(um.log(x))\n",
    "print(um.sqrt(x))"
   ]
  },
  {
   "cell_type": "markdown",
   "metadata": {},
   "source": [
    "Das hält den Code übersichtlich und vermeidet Namenskonflikte.\n",
    "\n",
    "Unterm Strich also benötigt:"
   ]
  },
  {
   "cell_type": "code",
   "execution_count": 16,
   "metadata": {},
   "outputs": [
    {
     "name": "stdout",
     "output_type": "stream",
     "text": [
      "(2.2+/-1.1)e+04\n"
     ]
    }
   ],
   "source": [
    "from uncertainties import ufloat\n",
    "import uncertainties.umath as um\n",
    "\n",
    "x = ufloat(10.0, 0.5)  # 10.0 ± 0.5\n",
    "print(um.exp(x))"
   ]
  }
 ],
 "metadata": {
  "kernelspec": {
   "display_name": "comp_physics",
   "language": "python",
   "name": "python3"
  },
  "language_info": {
   "codemirror_mode": {
    "name": "ipython",
    "version": 3
   },
   "file_extension": ".py",
   "mimetype": "text/x-python",
   "name": "python",
   "nbconvert_exporter": "python",
   "pygments_lexer": "ipython3",
   "version": "3.13.2"
  }
 },
 "nbformat": 4,
 "nbformat_minor": 2
}
